{
 "cells": [
  {
   "cell_type": "markdown",
   "metadata": {},
   "source": [
    "# Implementation of Find-S Algorithm"
   ]
  },
  {
   "cell_type": "markdown",
   "metadata": {},
   "source": [
    "##### This is the dataset used for find-s algo\n",
    "##### Atrributes are Sky, Airtemp, Humidity, Wind, Water, and Forecast\n",
    "##### The result is whether to play badminton or not"
   ]
  },
  {
   "cell_type": "code",
   "execution_count": 3,
   "metadata": {},
   "outputs": [],
   "source": [
    "X = [\n",
    "    [['sunny','warm','normal','strong','warm','same'],['positive']],\n",
    "    [['sunny','warm','high','strong','warm','same'],['positive']],\n",
    "    [['rainy','cold','high','strong','warm','change'],['negative']],\n",
    "    [['sunny','warm','high','strong','cool','change'],['positive']]\n",
    "]"
   ]
  },
  {
   "cell_type": "markdown",
   "metadata": {},
   "source": [
    "#### We initialize ho as the most specific hypothesis and then for every positive example we make it more general"
   ]
  },
  {
   "cell_type": "code",
   "execution_count": 15,
   "metadata": {},
   "outputs": [],
   "source": [
    "ho = ['0','0','0','0','0','0']\n",
    "\n",
    "for x in X:\n",
    "    #print(x[1][0])\n",
    "    if x[1][0]=='positive':\n",
    "        for i in range(len(x[0])):\n",
    "            if ho[i]=='0':\n",
    "                ho[i]=x[0][i]\n",
    "            elif ho[i]!=x[0][i]:\n",
    "                ho[i]='?'\n",
    "            else:\n",
    "                continue\n",
    "    else:\n",
    "        continue"
   ]
  },
  {
   "cell_type": "markdown",
   "metadata": {},
   "source": [
    "#### We get the most specific hypothesis"
   ]
  },
  {
   "cell_type": "code",
   "execution_count": 16,
   "metadata": {},
   "outputs": [
    {
     "name": "stdout",
     "output_type": "stream",
     "text": [
      "['sunny', 'warm', '?', 'strong', '?', '?']\n"
     ]
    }
   ],
   "source": [
    "print(ho)"
   ]
  }
 ],
 "metadata": {
  "kernelspec": {
   "display_name": "Python 3",
   "language": "python",
   "name": "python3"
  },
  "language_info": {
   "codemirror_mode": {
    "name": "ipython",
    "version": 3
   },
   "file_extension": ".py",
   "mimetype": "text/x-python",
   "name": "python",
   "nbconvert_exporter": "python",
   "pygments_lexer": "ipython3",
   "version": "3.6.7"
  }
 },
 "nbformat": 4,
 "nbformat_minor": 2
}
